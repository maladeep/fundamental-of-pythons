{
 "cells": [
  {
   "cell_type": "code",
   "execution_count": 8,
   "id": "bd46ea84",
   "metadata": {},
   "outputs": [
    {
     "ename": "SyntaxError",
     "evalue": "can't use starred expression here (2226116720.py, line 1)",
     "output_type": "error",
     "traceback": [
      "\u001b[0;36m  Cell \u001b[0;32mIn[8], line 1\u001b[0;36m\u001b[0m\n\u001b[0;31m    * 5+8999878\u001b[0m\n\u001b[0m    ^\u001b[0m\n\u001b[0;31mSyntaxError\u001b[0m\u001b[0;31m:\u001b[0m can't use starred expression here\n"
     ]
    }
   ],
   "source": [
    "* 5+8999878"
   ]
  },
  {
   "cell_type": "code",
   "execution_count": 5,
   "id": "8ba8334e",
   "metadata": {},
   "outputs": [
    {
     "data": {
      "text/plain": [
       "45759"
      ]
     },
     "execution_count": 5,
     "metadata": {},
     "output_type": "execute_result"
    }
   ],
   "source": [
    "45435+324"
   ]
  },
  {
   "cell_type": "markdown",
   "id": "8686114d",
   "metadata": {},
   "source": [
    "5+5"
   ]
  },
  {
   "cell_type": "code",
   "execution_count": 6,
   "id": "755c02d1",
   "metadata": {},
   "outputs": [
    {
     "data": {
      "text/plain": [
       "82"
      ]
     },
     "execution_count": 6,
     "metadata": {},
     "output_type": "execute_result"
    }
   ],
   "source": [
    "6+76"
   ]
  },
  {
   "cell_type": "markdown",
   "id": "204a5a57",
   "metadata": {},
   "source": [
    "# 5+6"
   ]
  },
  {
   "cell_type": "code",
   "execution_count": null,
   "id": "79a40ce1",
   "metadata": {},
   "outputs": [],
   "source": []
  }
 ],
 "metadata": {
  "kernelspec": {
   "display_name": "Python 3 (ipykernel)",
   "language": "python",
   "name": "python3"
  },
  "language_info": {
   "codemirror_mode": {
    "name": "ipython",
    "version": 3
   },
   "file_extension": ".py",
   "mimetype": "text/x-python",
   "name": "python",
   "nbconvert_exporter": "python",
   "pygments_lexer": "ipython3",
   "version": "3.10.10"
  }
 },
 "nbformat": 4,
 "nbformat_minor": 5
}
